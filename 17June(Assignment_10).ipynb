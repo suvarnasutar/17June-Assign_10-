{
 "cells": [
  {
   "cell_type": "code",
   "execution_count": null,
   "id": "0355d3a2",
   "metadata": {},
   "outputs": [],
   "source": [
    "   ####### Que 1  #######\n",
    "1. What is the role of try and exception block?    "
   ]
  },
  {
   "cell_type": "code",
   "execution_count": null,
   "id": "6e510b23",
   "metadata": {},
   "outputs": [],
   "source": [
    "The try block tests a block of code for errors.\n",
    "The except block handles the error."
   ]
  },
  {
   "cell_type": "code",
   "execution_count": null,
   "id": "065dbafb",
   "metadata": {},
   "outputs": [],
   "source": []
  },
  {
   "cell_type": "code",
   "execution_count": null,
   "id": "cec69bca",
   "metadata": {},
   "outputs": [],
   "source": [
    " ####### Que 2  #######\n",
    "2. What is the syntax for a basic try-except block?    "
   ]
  },
  {
   "cell_type": "code",
   "execution_count": null,
   "id": "9cb439b5",
   "metadata": {},
   "outputs": [],
   "source": [
    "try:\n",
    "    # Some Code\n",
    "except:\n",
    "    # Executed if error in the try block occures"
   ]
  },
  {
   "cell_type": "code",
   "execution_count": null,
   "id": "e7211f63",
   "metadata": {},
   "outputs": [],
   "source": []
  },
  {
   "cell_type": "code",
   "execution_count": null,
   "id": "1bae628f",
   "metadata": {},
   "outputs": [],
   "source": [
    " ####### Que 3  #######\n",
    "3. What happens if an exception occurs inside a try block and there is no matching\n",
    "except block?    "
   ]
  },
  {
   "cell_type": "code",
   "execution_count": null,
   "id": "5bd02b65",
   "metadata": {},
   "outputs": [],
   "source": [
    "The subsequent block will be executed only if the specified exception occurs. There may be multiple except clauses with\n",
    "different exception types in a single try block. If the type of exception doesn't match any of the except blocks, it will\n",
    "remain unhandled and the program will terminate."
   ]
  },
  {
   "cell_type": "code",
   "execution_count": null,
   "id": "04e9fe7f",
   "metadata": {},
   "outputs": [],
   "source": []
  },
  {
   "cell_type": "code",
   "execution_count": null,
   "id": "67dbb189",
   "metadata": {},
   "outputs": [],
   "source": [
    " ####### Que 4  #######\n",
    "4. What is the difference between using a bare except block and specifying a specific\n",
    "exception type?    "
   ]
  },
  {
   "cell_type": "code",
   "execution_count": null,
   "id": "a541deb1",
   "metadata": {},
   "outputs": [],
   "source": [
    "A bare except: clause will catch SystemExit and KeyboardInterrupt exceptions, making it harder to interrupt a program with \n",
    "Control-C, and can disguise other problems. If you want to catch all exceptions that signal program errors, use except\n",
    "Exception: (bare except is equivalent to except BaseException:).\n",
    "\n"
   ]
  },
  {
   "cell_type": "code",
   "execution_count": null,
   "id": "a736a650",
   "metadata": {},
   "outputs": [],
   "source": []
  },
  {
   "cell_type": "code",
   "execution_count": null,
   "id": "6d0bb1f6",
   "metadata": {},
   "outputs": [],
   "source": [
    " ####### Que 5  #######\n",
    "5. Can you have nested try-except blocks in Python? If yes, then give an example.    "
   ]
  },
  {
   "cell_type": "code",
   "execution_count": null,
   "id": "020bf1c6",
   "metadata": {},
   "outputs": [],
   "source": [
    "We can have nested try-except blocks in Python. In this case, if an exception is raised in the nested try block, the nested \n",
    "except block is used to handle it. In case the nested except is not able to handle it, the outer except blocks are used to \n",
    "handle the exception.\n",
    "Example:"
   ]
  },
  {
   "cell_type": "code",
   "execution_count": 3,
   "id": "3a03e4e6",
   "metadata": {},
   "outputs": [
    {
     "name": "stdout",
     "output_type": "stream",
     "text": [
      "outer try block\n",
      "nested try block\n",
      "outer except block\n",
      "division by zero\n"
     ]
    }
   ],
   "source": [
    "x = 10\n",
    "y = 0\n",
    " \n",
    "try:\n",
    "    print(\"outer try block\")\n",
    "    try:\n",
    "        print(\"nested try block\")\n",
    "        print(x / y)\n",
    "    except TypeError as te:\n",
    "        print(\"nested except block\")\n",
    "        print(te)\n",
    "except ZeroDivisionError as ze:\n",
    "    print(\"outer except block\")\n",
    "    print(ze)"
   ]
  },
  {
   "cell_type": "code",
   "execution_count": null,
   "id": "ef95e3ea",
   "metadata": {},
   "outputs": [],
   "source": []
  },
  {
   "cell_type": "code",
   "execution_count": null,
   "id": "be66fd89",
   "metadata": {},
   "outputs": [],
   "source": [
    " ####### Que 6  #######\n",
    "6. Can we use multiple exception blocks, if yes then give an example.    "
   ]
  },
  {
   "cell_type": "code",
   "execution_count": null,
   "id": "3a6c8a4b",
   "metadata": {},
   "outputs": [],
   "source": [
    "Using separate except blocks is another way to catch multiple exceptions in Python."
   ]
  },
  {
   "cell_type": "code",
   "execution_count": 27,
   "id": "dad841c9",
   "metadata": {},
   "outputs": [
    {
     "name": "stdout",
     "output_type": "stream",
     "text": [
      "outer try block\n",
      "nested try block\n",
      "outer except block\n",
      "division by zero\n"
     ]
    }
   ],
   "source": [
    "x = 10\n",
    "y = 0\n",
    " \n",
    "try:\n",
    "    print(\"outer try block\")\n",
    "    try:\n",
    "        print(\"nested try block\")\n",
    "        print(x / y)\n",
    "    except TypeError as te:\n",
    "        print(\"nested except block\")\n",
    "        print(te)\n",
    "except ZeroDivisionError as ze:\n",
    "    print(\"outer except block\")\n",
    "    print(ze)"
   ]
  },
  {
   "cell_type": "code",
   "execution_count": null,
   "id": "1f7b55de",
   "metadata": {},
   "outputs": [],
   "source": []
  },
  {
   "cell_type": "code",
   "execution_count": null,
   "id": "2afe6a26",
   "metadata": {},
   "outputs": [],
   "source": [
    " ####### Que 7  #######\n",
    "7. Write the reason due to which following errors are raised:\n",
    "a. EOFError\n",
    "b. FloatingPointError\n",
    "c. IndexError\n",
    "d. MemoryError\n",
    "e. OverflowError\n",
    "f. TabError\n",
    "g. ValueError    "
   ]
  },
  {
   "cell_type": "code",
   "execution_count": null,
   "id": "4fc26df3",
   "metadata": {},
   "outputs": [],
   "source": [
    "Answer:\n",
    "a. EOFError:\n",
    "    EOFError is short for \"End-of-Line Error.\" This error occurs when Python has reached the end of user input without\n",
    "    receiving any input. The reason that EOFError occurs is that Python attempts to print out your input in variable string when\n",
    "    no data is given.\n",
    "        "
   ]
  },
  {
   "cell_type": "code",
   "execution_count": null,
   "id": "21fd03b8",
   "metadata": {},
   "outputs": [],
   "source": [
    "b. FloatingPointError:\n",
    "    Raised when a floating point operation fails."
   ]
  },
  {
   "cell_type": "code",
   "execution_count": null,
   "id": "a6744b60",
   "metadata": {},
   "outputs": [],
   "source": [
    "c. IndexError:\n",
    "    Raised when the index of a sequence is out of range."
   ]
  },
  {
   "cell_type": "code",
   "execution_count": null,
   "id": "f557c66b",
   "metadata": {},
   "outputs": [],
   "source": [
    "d. MemoryError:\n",
    "    Raised when an operation runs out of memory."
   ]
  },
  {
   "cell_type": "code",
   "execution_count": null,
   "id": "bd17d377",
   "metadata": {},
   "outputs": [],
   "source": [
    "e. OverflowError:\n",
    "    Raised when the result of an arithmetic operation is too large to be represented."
   ]
  },
  {
   "cell_type": "code",
   "execution_count": null,
   "id": "238e7d6a",
   "metadata": {},
   "outputs": [],
   "source": [
    "f. TabError:\n",
    "    Raised when the indentation consists of inconsistent tabs and spaces."
   ]
  },
  {
   "cell_type": "code",
   "execution_count": null,
   "id": "c9d930f7",
   "metadata": {},
   "outputs": [],
   "source": [
    "g. ValueError:\n",
    "    Raised when a function gets an argument of correct type but improper value."
   ]
  },
  {
   "cell_type": "code",
   "execution_count": null,
   "id": "732b880f",
   "metadata": {},
   "outputs": [],
   "source": []
  },
  {
   "cell_type": "code",
   "execution_count": null,
   "id": "cf9b5611",
   "metadata": {},
   "outputs": [],
   "source": [
    " ####### Que 8  #######\n",
    "8. Write code for the following given scenario and add try-exception block to it.\n",
    "a. Program to divide two numbers\n",
    "b. Program to convert a string to an integer\n",
    "c. Program to access an element in a list\n",
    "d. Program to handle a specific exception\n",
    "e. Program to handle any exception    "
   ]
  },
  {
   "cell_type": "code",
   "execution_count": 12,
   "id": "ff3c5b02",
   "metadata": {},
   "outputs": [
    {
     "name": "stdout",
     "output_type": "stream",
     "text": [
      "Enter the value of a:5\n",
      "Enter the value of b:2\n",
      "the division of a and b is :  2.5\n"
     ]
    }
   ],
   "source": [
    "#######   Program to divide two numbers\n",
    "\n",
    "a=int(input(\"Enter the value of a:\"))\n",
    "b=int(input(\"Enter the value of b:\"))\n",
    "try:\n",
    "    c=a/b\n",
    "    print(\"the division of a and b is : \",c)\n",
    "except ZeroDivisionError:\n",
    "    print(\"Division by Zero!\")    \n",
    "    "
   ]
  },
  {
   "cell_type": "code",
   "execution_count": 13,
   "id": "3c501949",
   "metadata": {},
   "outputs": [
    {
     "name": "stdout",
     "output_type": "stream",
     "text": [
      "987\n"
     ]
    }
   ],
   "source": [
    "#######    Program to convert a string to an integer\n",
    "try:\n",
    "    strObj = \"987\"\n",
    "    result = int(strObj)\n",
    "    print(result)  \n",
    "except ValueError:\n",
    "    print(\"String is not an integer.\")"
   ]
  },
  {
   "cell_type": "code",
   "execution_count": 22,
   "id": "9531da59",
   "metadata": {},
   "outputs": [
    {
     "name": "stdout",
     "output_type": "stream",
     "text": [
      "The original list :  [6, 4, 8, 9, 10]\n",
      "The value after catching error : Element not in list !\n"
     ]
    }
   ],
   "source": [
    "#######    Program to access an element in a list\n",
    "test_list = [6, 4, 8, 9, 10]\n",
    " \n",
    "# printing list\n",
    "print(\"The original list : \" ,test_list)\n",
    " \n",
    "# Handling no element found in index()\n",
    "# Using try + except + ValueError\n",
    "try :\n",
    "    test_list.index(11)\n",
    "    res = \"Element found\"\n",
    "except ValueError :\n",
    "    res = \"Element not in list !\"\n",
    " \n",
    "# Printing result\n",
    "print(\"The value after catching error : \" + str(res))\n"
   ]
  },
  {
   "cell_type": "code",
   "execution_count": 25,
   "id": "d4086df7",
   "metadata": {},
   "outputs": [
    {
     "name": "stdout",
     "output_type": "stream",
     "text": [
      "Index Out of Bound.\n"
     ]
    }
   ],
   "source": [
    "#######    Program to handle a specific exception\n",
    "try:\n",
    "    \n",
    "    even_numbers = [2,4,6,8]\n",
    "    print(even_numbers[4])\n",
    "\n",
    "except ZeroDivisionError:\n",
    "    print(\"Denominator cannot be 0.\")\n",
    "    \n",
    "except IndexError:\n",
    "    print(\"Index Out of Bound.\")\n"
   ]
  },
  {
   "cell_type": "code",
   "execution_count": 26,
   "id": "f3353dcf",
   "metadata": {},
   "outputs": [
    {
     "name": "stdout",
     "output_type": "stream",
     "text": [
      "Second element = 2\n",
      "Error occurred\n"
     ]
    }
   ],
   "source": [
    "#######    Program to handle any exception    \n",
    "a = [1, 2, 3]\n",
    "try:\n",
    "    print (\"Second element = %d\" %(a[1]))\n",
    "  \n",
    "    # Throws error since there are only 3 \n",
    "    # elements in array\n",
    "    print (\"Fourth element = %d\" %(a[3]))\n",
    "  \n",
    "except:\n",
    "    print (\"Error occurred\")"
   ]
  },
  {
   "cell_type": "code",
   "execution_count": null,
   "id": "69e8b542",
   "metadata": {},
   "outputs": [],
   "source": []
  }
 ],
 "metadata": {
  "kernelspec": {
   "display_name": "Python 3 (ipykernel)",
   "language": "python",
   "name": "python3"
  },
  "language_info": {
   "codemirror_mode": {
    "name": "ipython",
    "version": 3
   },
   "file_extension": ".py",
   "mimetype": "text/x-python",
   "name": "python",
   "nbconvert_exporter": "python",
   "pygments_lexer": "ipython3",
   "version": "3.11.3"
  }
 },
 "nbformat": 4,
 "nbformat_minor": 5
}
